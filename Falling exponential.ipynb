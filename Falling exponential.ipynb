{
 "cells": [
  {
   "cell_type": "markdown",
   "metadata": {},
   "source": [
    "# Example: Falling spectrum"
   ]
  },
  {
   "cell_type": "code",
   "execution_count": 1,
   "metadata": {},
   "outputs": [],
   "source": [
    "import numpy as np\n",
    "import matplotlib.pyplot as plt\n",
    "%matplotlib inline"
   ]
  },
  {
   "cell_type": "markdown",
   "metadata": {},
   "source": [
    "## 1. Generate truth, reco, pseudodata"
   ]
  },
  {
   "cell_type": "markdown",
   "metadata": {},
   "source": [
    "Sample 1000 truth events from $f(x) = e^{-x}$ between $1 < x < 5$.\n",
    "\n",
    "The reco samples are produced by smearing the truth by a drawing from a Gaussian distribution with $\\mu=x$, $\\sigma=0.2\\sqrt{x}$."
   ]
  },
  {
   "cell_type": "code",
   "execution_count": 2,
   "metadata": {},
   "outputs": [],
   "source": [
    "# Monte Carlo from transformation method\n",
    "def generate_truth(low, high, size):\n",
    "    rnd = np.random.uniform(1-np.exp(-low),      # 1-exp(-x) is the exp CDF\n",
    "                            1-np.exp(-high),\n",
    "                            size=size)\n",
    "    return -np.log(1-rnd)                        # -log(1-r) is the exp quantile function"
   ]
  },
  {
   "cell_type": "code",
   "execution_count": 3,
   "metadata": {},
   "outputs": [],
   "source": [
    "np.random.seed(5421)\n",
    "\n",
    "truth_bins = np.linspace(1, 5, 20+1)\n",
    "truth_bin_centers = (truth_bins[:-1] + truth_bins[1:]) / 2\n",
    "\n",
    "reco_bins = np.linspace(0.5, 5, 30+1)\n",
    "reco_bin_centers = (reco_bins[:-1] + reco_bins[1:]) / 2\n",
    "\n",
    "N = 1000\n",
    "a = 200.0 # Multiplier to remove statistical fluctuations from response\n",
    "truth_events = generate_truth(1, 5, int(N*a))\n",
    "reco_events = np.random.normal(truth_events, 0.2*np.sqrt(truth_events))\n",
    "\n",
    "truth_hist, be = np.histogram(truth_events, bins=truth_bins)\n",
    "truth_hist = truth_hist / a\n",
    "\n",
    "reco_hist, be = np.histogram(reco_events, bins=reco_bins)\n",
    "reco_hist = reco_hist / a\n",
    "\n",
    "data_hist = np.random.poisson(reco_hist)"
   ]
  },
  {
   "cell_type": "code",
   "execution_count": 4,
   "metadata": {},
   "outputs": [
    {
     "data": {
      "image/png": "[encoded data removed]",
      "text/plain": [
       "<Figure size 432x324 with 1 Axes>"
      ]
     },
     "metadata": {
      "needs_background": "light"
     },
     "output_type": "display_data"
    }
   ],
   "source": [
    "from helpers import plot_hist\n",
    "plt.figure(figsize=(6,4.5))\n",
    "plot_hist(np.append([0], truth_hist), np.append([0.5], truth_bins), has_overflow=False, color='k', lw=1, zorder=0, label='$\\mathbf{\\mu}$')\n",
    "plot_hist(reco_hist, reco_bins, has_overflow=False, color='k', lw=1, ls='--', zorder=1, label=r'$\\mathbf{\\nu}$')\n",
    "plt.errorbar(reco_bin_centers, data_hist, yerr=np.sqrt(data_hist), fmt='ok', ms=3, capsize=2, lw=1, zorder=2, label='$\\mathbf{n}$')\n",
    "plt.legend(frameon=False)\n",
    "plt.xlabel('x')\n",
    "plt.ylabel('Events per bin')\n",
    "plt.show()"
   ]
  },
  {
   "cell_type": "markdown",
   "metadata": {},
   "source": [
    "## 2. Response matrix"
   ]
  },
  {
   "cell_type": "code",
   "execution_count": 5,
   "metadata": {},
   "outputs": [],
   "source": [
    "def response_matrix(truth, reco):\n",
    "    r = np.histogram2d(reco, truth, bins=(reco_bins, truth_bins))[0]\n",
    "    norm = r.sum(axis=0, keepdims=True)\n",
    "    return r / norm\n",
    "\n",
    "R = response_matrix(truth_events, reco_events)"
   ]
  },
  {
   "cell_type": "code",
   "execution_count": 6,
   "metadata": {},
   "outputs": [
    {
     "data": {
      "image/png": "[encoded data removed]",
      "text/plain": [
       "<Figure size 432x288 with 2 Axes>"
      ]
     },
     "metadata": {
      "needs_background": "light"
     },
     "output_type": "display_data"
    }
   ],
   "source": [
    "plt.imshow(R.T[1:-1,1:-1], cmap='Blues', origin='lower', extent=(0,1,0,1))\n",
    "plt.colorbar()\n",
    "plt.title('Response matrix')\n",
    "plt.xlabel('Reco $x$')\n",
    "plt.ylabel('True $x$')\n",
    "plt.show()"
   ]
  },
  {
   "cell_type": "markdown",
   "metadata": {},
   "source": [
    "## 3. ML estimator"
   ]
  },
  {
   "cell_type": "markdown",
   "metadata": {},
   "source": [
    "Since $M \\neq N$, $R$ is not invertable. Therefore we solve for the ML estimator as the argmax of the likelihood (minimum of negative log-likelihood)."
   ]
  },
  {
   "cell_type": "code",
   "execution_count": 7,
   "metadata": {},
   "outputs": [],
   "source": [
    "from iminuit import Minuit\n",
    "from iminuit.util import make_func_code\n",
    "\n",
    "from helpers import hist2args, vals2hist, cov2array\n",
    "\n",
    "# See https://iminuit.readthedocs.io/en/latest/api.html#minuit\n",
    "class NLL(object):\n",
    "    def __init__(self):\n",
    "        params = ['bin_{}'.format(i+1) for i in range(len(truth_bins)-1)]\n",
    "        self.func_defaults = None\n",
    "        self.func_code = make_func_code(params)\n",
    "        \n",
    "    def default_errordef(self):\n",
    "        return 0.5\n",
    "        \n",
    "    def __call__(self, *args):\n",
    "        mu = np.array(args, dtype=float)\n",
    "        nu = np.dot(R, mu)\n",
    "        if np.any(nu < 0):\n",
    "            return 1e12\n",
    "        vec = data_hist * np.log(nu/data_hist) - nu + data_hist\n",
    "        return -np.sum(vec)\n",
    "nll = NLL()"
   ]
  },
  {
   "cell_type": "code",
   "execution_count": 15,
   "metadata": {},
   "outputs": [
    {
     "ename": "RuntimeError",
     "evalue": "error_bin_1 is not one of the parameters [bin_1 bin_2 bin_3 bin_4 bin_5 bin_6 bin_7 bin_8 bin_9 bin_10 bin_11 bin_12 bin_13 bin_14 bin_15 bin_16 bin_17 bin_18 bin_19 bin_20]",
     "output_type": "error",
     "traceback": [
      "\u001b[1;31m---------------------------------------------------------------------------\u001b[0m",
      "\u001b[1;31mRuntimeError\u001b[0m                              Traceback (most recent call last)",
      "\u001b[1;32m~\\AppData\\Local\\Temp/ipykernel_3436/3462880769.py\u001b[0m in \u001b[0;36m<module>\u001b[1;34m\u001b[0m\n\u001b[1;32m----> 1\u001b[1;33m \u001b[0mminuit\u001b[0m \u001b[1;33m=\u001b[0m \u001b[0mMinuit\u001b[0m\u001b[1;33m(\u001b[0m\u001b[0mnll\u001b[0m\u001b[1;33m,\u001b[0m \u001b[1;33m**\u001b[0m\u001b[0mhist2args\u001b[0m\u001b[1;33m(\u001b[0m\u001b[0mdata_hist\u001b[0m\u001b[1;33m[\u001b[0m\u001b[1;33m:\u001b[0m\u001b[1;36m10\u001b[0m\u001b[1;33m]\u001b[0m\u001b[1;33m)\u001b[0m\u001b[1;33m)\u001b[0m\u001b[1;33m\u001b[0m\u001b[1;33m\u001b[0m\u001b[0m\n\u001b[0m\u001b[0;32m      2\u001b[0m \u001b[0mmigrad\u001b[0m \u001b[1;33m=\u001b[0m \u001b[0mminuit\u001b[0m\u001b[1;33m.\u001b[0m\u001b[0mmigrad\u001b[0m\u001b[1;33m(\u001b[0m\u001b[1;33m)\u001b[0m\u001b[1;33m\u001b[0m\u001b[1;33m\u001b[0m\u001b[0m\n\u001b[0;32m      3\u001b[0m \u001b[0mmu\u001b[0m\u001b[1;33m,\u001b[0m \u001b[0mstd\u001b[0m \u001b[1;33m=\u001b[0m \u001b[0mvals2hist\u001b[0m\u001b[1;33m(\u001b[0m\u001b[0mminuit\u001b[0m\u001b[1;33m)\u001b[0m\u001b[1;33m\u001b[0m\u001b[1;33m\u001b[0m\u001b[0m\n\u001b[0;32m      4\u001b[0m \u001b[0mcov\u001b[0m \u001b[1;33m=\u001b[0m \u001b[0mcov2array\u001b[0m\u001b[1;33m(\u001b[0m\u001b[0mminuit\u001b[0m\u001b[1;33m)\u001b[0m\u001b[1;33m\u001b[0m\u001b[1;33m\u001b[0m\u001b[0m\n",
      "\u001b[1;32mC:\\ProgramData\\Anaconda\\lib\\site-packages\\iminuit\\minuit.py\u001b[0m in \u001b[0;36m__init__\u001b[1;34m(***failed resolving arguments***)\u001b[0m\n\u001b[0;32m    614\u001b[0m         )\n\u001b[0;32m    615\u001b[0m \u001b[1;33m\u001b[0m\u001b[0m\n\u001b[1;32m--> 616\u001b[1;33m         \u001b[0mself\u001b[0m\u001b[1;33m.\u001b[0m\u001b[0m_init_state\u001b[0m \u001b[1;33m=\u001b[0m \u001b[0m_make_init_state\u001b[0m\u001b[1;33m(\u001b[0m\u001b[0mself\u001b[0m\u001b[1;33m.\u001b[0m\u001b[0m_pos2var\u001b[0m\u001b[1;33m,\u001b[0m \u001b[0mstart\u001b[0m\u001b[1;33m,\u001b[0m \u001b[0mkwds\u001b[0m\u001b[1;33m)\u001b[0m\u001b[1;33m\u001b[0m\u001b[1;33m\u001b[0m\u001b[0m\n\u001b[0m\u001b[0;32m    617\u001b[0m         \u001b[0mself\u001b[0m\u001b[1;33m.\u001b[0m\u001b[0m_values\u001b[0m \u001b[1;33m=\u001b[0m \u001b[0mmutil\u001b[0m\u001b[1;33m.\u001b[0m\u001b[0mValueView\u001b[0m\u001b[1;33m(\u001b[0m\u001b[0mself\u001b[0m\u001b[1;33m)\u001b[0m\u001b[1;33m\u001b[0m\u001b[1;33m\u001b[0m\u001b[0m\n\u001b[0;32m    618\u001b[0m         \u001b[0mself\u001b[0m\u001b[1;33m.\u001b[0m\u001b[0m_errors\u001b[0m \u001b[1;33m=\u001b[0m \u001b[0mmutil\u001b[0m\u001b[1;33m.\u001b[0m\u001b[0mErrorView\u001b[0m\u001b[1;33m(\u001b[0m\u001b[0mself\u001b[0m\u001b[1;33m)\u001b[0m\u001b[1;33m\u001b[0m\u001b[1;33m\u001b[0m\u001b[0m\n",
      "\u001b[1;32mC:\\ProgramData\\Anaconda\\lib\\site-packages\\iminuit\\minuit.py\u001b[0m in \u001b[0;36m_make_init_state\u001b[1;34m(pos2var, args, kwds)\u001b[0m\n\u001b[0;32m   2005\u001b[0m         \u001b[1;32mfor\u001b[0m \u001b[0mkw\u001b[0m \u001b[1;32min\u001b[0m \u001b[0mkwds\u001b[0m\u001b[1;33m:\u001b[0m\u001b[1;33m\u001b[0m\u001b[1;33m\u001b[0m\u001b[0m\n\u001b[0;32m   2006\u001b[0m             \u001b[1;32mif\u001b[0m \u001b[0mkw\u001b[0m \u001b[1;32mnot\u001b[0m \u001b[1;32min\u001b[0m \u001b[0mpos2var\u001b[0m\u001b[1;33m:\u001b[0m\u001b[1;33m\u001b[0m\u001b[1;33m\u001b[0m\u001b[0m\n\u001b[1;32m-> 2007\u001b[1;33m                 raise RuntimeError(\n\u001b[0m\u001b[0;32m   2008\u001b[0m                     \u001b[1;34mf\"{kw} is not one of the parameters [{' '.join(pos2var)}]\"\u001b[0m\u001b[1;33m\u001b[0m\u001b[1;33m\u001b[0m\u001b[0m\n\u001b[0;32m   2009\u001b[0m                 )\n",
      "\u001b[1;31mRuntimeError\u001b[0m: error_bin_1 is not one of the parameters [bin_1 bin_2 bin_3 bin_4 bin_5 bin_6 bin_7 bin_8 bin_9 bin_10 bin_11 bin_12 bin_13 bin_14 bin_15 bin_16 bin_17 bin_18 bin_19 bin_20]"
     ]
    }
   ],
   "source": [
    "\n",
    "minuit = Minuit(nll, **hist2args(data_hist[:10]))\n",
    "migrad = minuit.migrad()\n",
    "mu, std = vals2hist(minuit)\n",
    "cov = cov2array(minuit)"
   ]
  },
  {
   "cell_type": "code",
   "execution_count": null,
   "metadata": {},
   "outputs": [],
   "source": [
    "print( \"ML estimator: %s\" % mu)\n",
    "print( \"ML covariance:\")\n",
    "plt.imshow(cov)\n",
    "plt.show()"
   ]
  },
  {
   "cell_type": "markdown",
   "metadata": {},
   "source": [
    "## 4. Gaussian Process MAP estimator"
   ]
  },
  {
   "cell_type": "code",
   "execution_count": null,
   "metadata": {},
   "outputs": [],
   "source": [
    "X = truth_bin_centers.reshape(-1, 1)"
   ]
  },
  {
   "cell_type": "markdown",
   "metadata": {},
   "source": [
    "Define the kernel function. These can be swapped below to investigate the effect of changing the kernel."
   ]
  },
  {
   "cell_type": "code",
   "execution_count": null,
   "metadata": {},
   "outputs": [],
   "source": [
    "def tikhonovKernel(a, b, params):\n",
    "    R = Xtrain[-1] - Xtrain[0] + np.finfo(float).eps # Maximum difference\n",
    "    r = a - b.T\n",
    "    return (2*np.abs(r)**3 - 3*R*(r**2) + R**3) * (np.exp(params)/12)\n",
    "\n",
    "def sqExpKernel(a, b, params):\n",
    "    amp, param = params\n",
    "    sqdist = np.sum(a**2, 1).reshape(-1, 1) + np.sum(b**2, 1) - 2*np.dot(a, b.T)\n",
    "    return np.exp(amp) * np.exp(-.5 * (1/param) * sqdist)\n",
    "\n",
    "def gibbsKernel(a, b, params):\n",
    "    A, t1, t2 = params\n",
    "    length = lambda x: t1*x + t2\n",
    "    sqdist = np.sum(a**2, 1).reshape(-1, 1) + np.sum(b**2, 1) - 2*np.dot(a, b.T)\n",
    "    norm = np.sqrt(2 * length(a) * length(b.T) / (length(a)**2 + length(b.T)**2))\n",
    "    return np.exp(A) * norm * np.exp(-sqdist/(length(a)**2 + length(b.T)**2))\n",
    "\n",
    "def gibbsKernel2(a, b, params):\n",
    "    A, t1, t2, p1, p2 = params\n",
    "    length = lambda x: t1*x + t2\n",
    "    sqdist = np.sum(a**2, 1).reshape(-1, 1) + np.sum(b**2, 1) - 2*np.dot(a, b.T)\n",
    "    norm = np.sqrt(2 * length(a) * length(b.T) / (length(a)**2 + length(b.T)**2))\n",
    "    amp = A * np.exp((p1 - a - b.T)/(2*p2))\n",
    "    return amp * norm * np.exp(-sqdist/(length(a)**2 + length(b.T)**2))"
   ]
  },
  {
   "cell_type": "markdown",
   "metadata": {},
   "source": [
    "### 4.1. Optimise kernel parameters\n",
    "\n",
    "Optimise the kernel parameters by minimising the negative log marginal likelihood, given by $$-\\log L \\sim  \\mu_{ML}^T[K+U_{ML}]^{-1} \\mu_{ML} + \\log[ \\det (K+U_{ML}) ] + \\ldots$$ to find the kernel parameters."
   ]
  },
  {
   "cell_type": "code",
   "execution_count": null,
   "metadata": {},
   "outputs": [],
   "source": [
    "from scipy.linalg import solve\n",
    "\n",
    "def marginal_llh(params, kernel=gibbsKernel):\n",
    "    K = kernel(X, X, params)\n",
    "    if np.isnan(K).any():\n",
    "        return 1e12\n",
    "    alpha = solve(K + cov, mu)\n",
    "    return np.dot(mu, alpha) + np.log(np.linalg.det(K+cov))"
   ]
  },
  {
   "cell_type": "code",
   "execution_count": null,
   "metadata": {},
   "outputs": [],
   "source": [
    "from scipy.optimize import minimize\n",
    "\n",
    "kernel = gibbsKernel\n",
    "x0 = [10, 1, 1]\n",
    "res = minimize(marginal_llh, x0, method='L-BFGS-B', args=(kernel))\n",
    "print(res)"
   ]
  },
  {
   "cell_type": "markdown",
   "metadata": {},
   "source": [
    "### 4.2. Find MAP estimator\n",
    "The GP MAP estimator (with zero mean function) is given by $$ \\mu = K[K+U_{ML}]^{-1} \\mu_{ML} $$ and covariance $$U = K - K[K+U_{ML}]^{-1}K$$"
   ]
  },
  {
   "cell_type": "code",
   "execution_count": null,
   "metadata": {},
   "outputs": [],
   "source": [
    "def GP_predict(params, kernel=gibbsKernel):\n",
    "    K = kernel(X, X, params)\n",
    "    alpha = solve(K + cov, mu)\n",
    "    mu_gp = np.dot(K, alpha)\n",
    "    cov_gp = K - np.dot(K, solve(K+cov, K))\n",
    "    return mu_gp, cov_gp"
   ]
  },
  {
   "cell_type": "code",
   "execution_count": null,
   "metadata": {},
   "outputs": [],
   "source": [
    "mu_gp, cov_gp = GP_predict(res.x, kernel)\n",
    "std_gp = np.sqrt(np.diag(cov_gp))"
   ]
  },
  {
   "cell_type": "code",
   "execution_count": null,
   "metadata": {},
   "outputs": [],
   "source": [
    "plt.figure(figsize=(6,4.5))\n",
    "plot_hist(np.append([0], truth_hist), np.append([0.5], truth_bins), has_overflow=False, label='$\\mathbf{\\mu}$', c='k', lw=1, zorder=0)\n",
    "plt.errorbar(truth_bin_centers, mu_gp, yerr=std_gp, fmt='^k', ms=4, capsize=2, lw=1, label='$\\hat\\mathbf{\\mu}$')\n",
    "plt.legend(frameon=False)\n",
    "plt.xlabel('x')\n",
    "plt.ylabel('Events per bin')\n",
    "plt.show()"
   ]
  },
  {
   "cell_type": "code",
   "execution_count": null,
   "metadata": {},
   "outputs": [],
   "source": [
    "corr = cov_gp / np.sqrt(cov_gp.diagonal() * cov_gp.diagonal().reshape((-1 ,1)))\n",
    "\n",
    "plt.imshow(corr, origin='lower', extent=(0, 1, 0, 1), cmap='PiYG_r', vmin=-1, vmax=1)\n",
    "plt.title('Correlation matrix')\n",
    "plt.xlabel('$\\hat{\\mu}_j$')\n",
    "plt.ylabel('$\\hat{\\mu}_i$')\n",
    "plt.colorbar()\n",
    "plt.show()"
   ]
  },
  {
   "cell_type": "code",
   "execution_count": null,
   "metadata": {},
   "outputs": [],
   "source": []
  },
  {
   "cell_type": "code",
   "execution_count": null,
   "metadata": {},
   "outputs": [],
   "source": []
  }
 ],
 "metadata": {
  "kernelspec": {
   "display_name": "Python 3 (ipykernel)",
   "language": "python",
   "name": "python3"
  },
  "language_info": {
   "codemirror_mode": {
    "name": "ipython",
    "version": 3
   },
   "file_extension": ".py",
   "mimetype": "text/x-python",
   "name": "python",
   "nbconvert_exporter": "python",
   "pygments_lexer": "ipython3",
   "version": "3.9.7"
  }
 },
 "nbformat": 4,
 "nbformat_minor": 2
}
